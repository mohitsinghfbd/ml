{
 "cells": [
  {
   "cell_type": "code",
   "execution_count": 175,
   "metadata": {},
   "outputs": [],
   "source": [
    "import pandas as pd\n",
    "import numpy as np\n",
    "\n",
    "data=pd.read_csv(\"C:\\\\Users\\\\Mohit Singh\\\\Desktop\\\\ml\\\\logic_regrre\\\\train.csv\")\n",
    "data_test=pd.read_csv(\"C:\\\\Users\\\\Mohit Singh\\\\Desktop\\\\ml\\\\logic_regrre\\\\test.csv\")\n",
    "del data['Name']\n",
    "del data['Ticket']\n",
    "del data['Cabin']\n",
    "del data_test['Name']\n",
    "del data_test['Ticket']\n",
    "del data_test['Cabin']\n",
    "def f(s):\n",
    "    if s=='male':\n",
    "        return 0\n",
    "    else:\n",
    "        return 1\n",
    "data[\"Sex\"]=data.Sex.apply(f)\n",
    "data_test[\"Sex\"]=data_test.Sex.apply(f)\n",
    "def f1(s):\n",
    "    if s=='C':\n",
    "        return 0\n",
    "    elif s=='S':\n",
    "        return 1\n",
    "    else:\n",
    "        return 2\n",
    "data[\"Embarked\"]=data.Embarked.apply(f1)\n",
    "data_test[\"Embarked\"]=data_test.Embarked.apply(f1)\n",
    "data.Age.fillna(data.Age.mean(),inplace=True)\n",
    "data_test.Age.fillna(data_test.Age.mean(),inplace=True)\n",
    "data=np.array(data)\n",
    "data_test=np.array(data_test)\n",
    "x=data[:,0:7]\n",
    "y=data[:,7]\n",
    "data_test=data_test[:,:]"
   ]
  },
  {
   "cell_type": "code",
   "execution_count": 176,
   "metadata": {
    "scrolled": true
   },
   "outputs": [],
   "source": [
    "from sklearn import datasets\n",
    "from sklearn.linear_model import LogisticRegression"
   ]
  },
  {
   "cell_type": "code",
   "execution_count": 180,
   "metadata": {},
   "outputs": [],
   "source": [
    "clf = LogisticRegression()\n",
    "clf.fit(x,y)\n",
    "y_pred=clf.predict(data_test)\n",
    "np.savetxt(\"out4.csv\",y_pred,fmt=\"%f\")"
   ]
  }
 ],
 "metadata": {
  "kernelspec": {
   "display_name": "Python 3",
   "language": "python",
   "name": "python3"
  },
  "language_info": {
   "codemirror_mode": {
    "name": "ipython",
    "version": 3
   },
   "file_extension": ".py",
   "mimetype": "text/x-python",
   "name": "python",
   "nbconvert_exporter": "python",
   "pygments_lexer": "ipython3",
   "version": "3.6.4"
  }
 },
 "nbformat": 4,
 "nbformat_minor": 2
}
