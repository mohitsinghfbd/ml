{
 "cells": [
  {
   "cell_type": "code",
   "execution_count": 1,
   "metadata": {},
   "outputs": [],
   "source": [
    "import tensorflow as tf"
   ]
  },
  {
   "cell_type": "code",
   "execution_count": 2,
   "metadata": {},
   "outputs": [],
   "source": [
    "from tensorflow.examples.tutorials.mnist import input_data"
   ]
  },
  {
   "cell_type": "code",
   "execution_count": 3,
   "metadata": {},
   "outputs": [
    {
     "name": "stdout",
     "output_type": "stream",
     "text": [
      "WARNING:tensorflow:From <ipython-input-3-f764d48fa1c4>:2: read_data_sets (from tensorflow.contrib.learn.python.learn.datasets.mnist) is deprecated and will be removed in a future version.\n",
      "Instructions for updating:\n",
      "Please use alternatives such as official/mnist/dataset.py from tensorflow/models.\n",
      "WARNING:tensorflow:From /anaconda3/lib/python3.6/site-packages/tensorflow/contrib/learn/python/learn/datasets/mnist.py:260: maybe_download (from tensorflow.contrib.learn.python.learn.datasets.base) is deprecated and will be removed in a future version.\n",
      "Instructions for updating:\n",
      "Please write your own downloading logic.\n",
      "WARNING:tensorflow:From /anaconda3/lib/python3.6/site-packages/tensorflow/contrib/learn/python/learn/datasets/mnist.py:262: extract_images (from tensorflow.contrib.learn.python.learn.datasets.mnist) is deprecated and will be removed in a future version.\n",
      "Instructions for updating:\n",
      "Please use tf.data to implement this functionality.\n",
      "Extracting MNIST_data/train-images-idx3-ubyte.gz\n",
      "WARNING:tensorflow:From /anaconda3/lib/python3.6/site-packages/tensorflow/contrib/learn/python/learn/datasets/mnist.py:267: extract_labels (from tensorflow.contrib.learn.python.learn.datasets.mnist) is deprecated and will be removed in a future version.\n",
      "Instructions for updating:\n",
      "Please use tf.data to implement this functionality.\n",
      "Extracting MNIST_data/train-labels-idx1-ubyte.gz\n",
      "WARNING:tensorflow:From /anaconda3/lib/python3.6/site-packages/tensorflow/contrib/learn/python/learn/datasets/mnist.py:110: dense_to_one_hot (from tensorflow.contrib.learn.python.learn.datasets.mnist) is deprecated and will be removed in a future version.\n",
      "Instructions for updating:\n",
      "Please use tf.one_hot on tensors.\n",
      "Extracting MNIST_data/t10k-images-idx3-ubyte.gz\n",
      "Extracting MNIST_data/t10k-labels-idx1-ubyte.gz\n",
      "WARNING:tensorflow:From /anaconda3/lib/python3.6/site-packages/tensorflow/contrib/learn/python/learn/datasets/mnist.py:290: DataSet.__init__ (from tensorflow.contrib.learn.python.learn.datasets.mnist) is deprecated and will be removed in a future version.\n",
      "Instructions for updating:\n",
      "Please use alternatives such as official/mnist/dataset.py from tensorflow/models.\n"
     ]
    }
   ],
   "source": [
    "#mnist=input_data.read_data_sets(\"MNIST_data/\")\n",
    "mnist=input_data.read_data_sets(\"MNIST_data/\",one_hot=True)"
   ]
  },
  {
   "cell_type": "code",
   "execution_count": 4,
   "metadata": {},
   "outputs": [
    {
     "data": {
      "text/plain": [
       "Datasets(train=<tensorflow.contrib.learn.python.learn.datasets.mnist.DataSet object at 0x181a492278>, validation=<tensorflow.contrib.learn.python.learn.datasets.mnist.DataSet object at 0x1c2241c4e0>, test=<tensorflow.contrib.learn.python.learn.datasets.mnist.DataSet object at 0x1c2241c588>)"
      ]
     },
     "execution_count": 4,
     "metadata": {},
     "output_type": "execute_result"
    }
   ],
   "source": [
    "mnist   # HAS 70,000 IMAGES !!!!"
   ]
  },
  {
   "cell_type": "code",
   "execution_count": 5,
   "metadata": {},
   "outputs": [
    {
     "data": {
      "text/plain": [
       "(55000, 784)"
      ]
     },
     "execution_count": 5,
     "metadata": {},
     "output_type": "execute_result"
    }
   ],
   "source": [
    "mnist.train.images.shape   # 28*28 ,FLATTENED 55000 images"
   ]
  },
  {
   "cell_type": "code",
   "execution_count": 6,
   "metadata": {},
   "outputs": [
    {
     "data": {
      "text/plain": [
       "(10000, 784)"
      ]
     },
     "execution_count": 6,
     "metadata": {},
     "output_type": "execute_result"
    }
   ],
   "source": [
    "mnist.test.images.shape "
   ]
  },
  {
   "cell_type": "code",
   "execution_count": 7,
   "metadata": {},
   "outputs": [
    {
     "data": {
      "text/plain": [
       "(5000, 784)"
      ]
     },
     "execution_count": 7,
     "metadata": {},
     "output_type": "execute_result"
    }
   ],
   "source": [
    "mnist.validation.images.shape "
   ]
  },
  {
   "cell_type": "code",
   "execution_count": 8,
   "metadata": {},
   "outputs": [
    {
     "data": {
      "text/plain": [
       "(array([[0., 0., 0., ..., 1., 0., 0.],\n",
       "        [0., 0., 0., ..., 0., 0., 0.],\n",
       "        [0., 0., 0., ..., 0., 0., 0.],\n",
       "        ...,\n",
       "        [0., 0., 0., ..., 0., 0., 0.],\n",
       "        [0., 0., 0., ..., 0., 0., 0.],\n",
       "        [0., 0., 0., ..., 0., 1., 0.]]), (55000, 10))"
      ]
     },
     "execution_count": 8,
     "metadata": {},
     "output_type": "execute_result"
    }
   ],
   "source": [
    "mnist.train.labels, mnist.train.labels.shape#(55000,)    output is a 10 sized vector"
   ]
  },
  {
   "cell_type": "markdown",
   "metadata": {},
   "source": [
    "# in multiclassification problems we want our output to be onehot encoded,output layer has 10 units,only one of them 1 others 0"
   ]
  },
  {
   "cell_type": "code",
   "execution_count": 9,
   "metadata": {},
   "outputs": [],
   "source": [
    "import numpy as np\n",
    "from matplotlib import pyplot as plt"
   ]
  },
  {
   "cell_type": "code",
   "execution_count": 10,
   "metadata": {},
   "outputs": [
    {
     "data": {
      "image/png": "[encoded data removed]",
      "text/plain": [
       "<matplotlib.figure.Figure at 0x1c2c103da0>"
      ]
     },
     "metadata": {},
     "output_type": "display_data"
    }
   ],
   "source": [
    "first_image=mnist.train.images[0]\n",
    "first_image=np.array(first_image,dtype='float')\n",
    "first_image=first_image.reshape((28,28))# from the flatenned image created an image\n",
    "plt.imshow(first_image)\n",
    "plt.show()"
   ]
  },
  {
   "cell_type": "markdown",
   "metadata": {},
   "source": [
    "#  Creating your own NN with Tensorflow !!"
   ]
  },
  {
   "cell_type": "markdown",
   "metadata": {},
   "source": [
    "#  each image is flatenned to 784 so our input layer has 784 entries\n",
    "# we have 10 units in output layer -for classifying 1 out of 10 classes\n",
    "# lets take 2 hidden units with 256 units (totally random)\n",
    "\n",
    "\n",
    "# Lay 1 has 784*256 weights ans 1* 256 biases-which is initiali to ramdom values\n",
    "# Lay 2 has 256*256 weights ans 1* 256 biases-which is initiali to ramdom values\n",
    "# output has 256*10 weights and 1*10 biases-which is initiali to ramdom values\n"
   ]
  },
  {
   "cell_type": "code",
   "execution_count": 11,
   "metadata": {},
   "outputs": [
    {
     "name": "stdout",
     "output_type": "stream",
     "text": [
      "[[ 1.157357   -0.56403667 -1.05047    ... -1.2217664   0.8629345\n",
      "  -0.43726406]\n",
      " [ 0.5229951  -0.28505456 -0.95764035 ... -1.1764257   1.2730539\n",
      "   0.3383443 ]\n",
      " [ 2.4287863  -0.68671596 -2.164815   ... -1.1487008   0.61201537\n",
      "   0.4100877 ]\n",
      " ...\n",
      " [ 1.3556172  -0.7056232   2.333279   ...  0.5281772  -0.3004942\n",
      "  -0.75858915]\n",
      " [ 0.6162004  -0.2528405  -0.24191122 ...  0.06954598 -3.0614164\n",
      "  -1.0921593 ]\n",
      " [-0.29123366 -0.7346627  -0.40572876 ...  0.60482204 -0.33599594\n",
      "  -1.203188  ]]\n"
     ]
    }
   ],
   "source": [
    "with tf.Session() as sess:\n",
    "    print(tf.random_normal([784,256]).eval())"
   ]
  },
  {
   "cell_type": "code",
   "execution_count": 12,
   "metadata": {},
   "outputs": [],
   "source": [
    "\n",
    "# not place holders as the user doesnt provide it to us\n",
    "n_input=784\n",
    "n_hidden_1=256\n",
    "n_hidden_2=256\n",
    "n_classes=10\n",
    "# both dictionaries\n",
    "weights={\n",
    "    'h1': tf.Variable(tf.random_normal([n_input,n_hidden_1])),# randomly select values from a normal distribution\n",
    "    'h2': tf.Variable(tf.random_normal([n_hidden_1,n_hidden_2])),\n",
    "    'out': tf.Variable(tf.random_normal([n_hidden_2,n_classes]))\n",
    "}\n",
    "biases={\n",
    "    'h1': tf.Variable(tf.random_normal([n_hidden_1])),# randomly select values from a normal distribution\n",
    "    'h2': tf.Variable(tf.random_normal([n_hidden_2])),\n",
    "    'out': tf.Variable(tf.random_normal([n_classes]))\n",
    "}"
   ]
  },
  {
   "cell_type": "markdown",
   "metadata": {},
   "source": [
    "# to visualise fwd propog .the initial input is 10000*784 the first layer has weights 784*256 these are matrix multiplied and add biases to it. similarly pass to next layers"
   ]
  },
  {
   "cell_type": "code",
   "execution_count": 13,
   "metadata": {},
   "outputs": [],
   "source": [
    "def forward_propogation(x,weights,biases):\n",
    "    in_layer1=tf.add(tf.matmul(x,weights['h1']),biases['h1'])\n",
    "    out_layer1=tf.nn.relu(in_layer1) # activation fxn ,relu=max(a,0)\n",
    "    \n",
    "    in_layer2=tf.add(tf.matmul(out_layer1,weights['h2']),biases['h2'])\n",
    "    out_layer2=tf.nn.relu(in_layer2)\n",
    "    \n",
    "    output=tf.add(tf.matmul(out_layer2,weights['out']),biases['out'])# not using any activation here\n",
    "    return output"
   ]
  },
  {
   "cell_type": "code",
   "execution_count": 14,
   "metadata": {},
   "outputs": [],
   "source": [
    "sess=tf.Session()\n",
    "sess.run(tf.global_variables_initializer())\n",
    "\n",
    "# predictions using random weights\n",
    "x=tf.placeholder(\"float\",[None,n_input])# we always know the second dimension ->784 (flatenned image)\n",
    "# this x can sometimes be training data/testing data /validation, no of images may vary\n",
    "y=tf.placeholder(tf.int32,[None,n_classes]) # for each img output is a 10 sized vector\n",
    "# in above vector jahn pe 1 hai wo indedx answer hai\n",
    "pred=forward_propogation(x,weights,biases)\n"
   ]
  },
  {
   "cell_type": "code",
   "execution_count": 15,
   "metadata": {},
   "outputs": [],
   "source": [
    "predictions=tf.argmax(pred,1) # 1 is the axis we have to find max along each ROW\n",
    "# arg max find the index wherre maximun happens\n",
    "true_labels=tf.argmax(y,1)\n",
    "correct_predictions=tf.equal(predictions,true_labels)# . TAKES TESOR OBJECTS NOT ARRAYS "
   ]
  },
  {
   "cell_type": "code",
   "execution_count": 16,
   "metadata": {},
   "outputs": [
    {
     "data": {
      "text/plain": [
       "(array([2, 6, 6, ..., 0, 2, 6]),\n",
       " array([7, 2, 1, ..., 4, 5, 6]),\n",
       " array([False, False, False, ..., False, False,  True]))"
      ]
     },
     "execution_count": 16,
     "metadata": {},
     "output_type": "execute_result"
    }
   ],
   "source": [
    "predictions_eval,labels,correct_pred=sess.run([predictions,true_labels,correct_predictions],feed_dict={x:mnist.test.images,y:mnist.test.labels})\n",
    "predictions_eval,labels,correct_pred"
   ]
  },
  {
   "cell_type": "code",
   "execution_count": 17,
   "metadata": {},
   "outputs": [
    {
     "data": {
      "text/plain": [
       "1054"
      ]
     },
     "execution_count": 17,
     "metadata": {},
     "output_type": "execute_result"
    }
   ],
   "source": [
    "correct_pred.sum()# out of 10,000-this is wid entirely random images"
   ]
  },
  {
   "cell_type": "markdown",
   "metadata": {},
   "source": [
    "# using the cross entropy cost -y(log(h))-(1-y)log(1-h)"
   ]
  },
  {
   "cell_type": "code",
   "execution_count": 18,
   "metadata": {},
   "outputs": [
    {
     "name": "stdout",
     "output_type": "stream",
     "text": [
      "WARNING:tensorflow:From <ipython-input-18-f024a47a50eb>:2: softmax_cross_entropy_with_logits (from tensorflow.python.ops.nn_ops) is deprecated and will be removed in a future version.\n",
      "Instructions for updating:\n",
      "\n",
      "Future major versions of TensorFlow will allow gradients to flow\n",
      "into the labels input on backprop by default.\n",
      "\n",
      "See @{tf.nn.softmax_cross_entropy_with_logits_v2}.\n",
      "\n"
     ]
    }
   ],
   "source": [
    "#tf.nn.softmax_cross_entropy_with_logits(logits=pred,labels=y)\n",
    "cost=tf.reduce_mean(tf.nn.softmax_cross_entropy_with_logits(logits=pred,labels=y))#taking mean of all 10000 images"
   ]
  },
  {
   "cell_type": "markdown",
   "metadata": {},
   "source": [
    "# how to reduce this cost by changing weights ?-> .   USE OPTIMISER"
   ]
  },
  {
   "cell_type": "code",
   "execution_count": 19,
   "metadata": {},
   "outputs": [],
   "source": [
    "optimizer=tf.train.AdamOptimizer(learning_rate=0.01)\n",
    "optimize=optimizer.minimize(cost)"
   ]
  },
  {
   "cell_type": "code",
   "execution_count": 20,
   "metadata": {},
   "outputs": [],
   "source": [
    "sess=tf.Session()\n",
    "sess.run(tf.global_variables_initializer())\n"
   ]
  },
  {
   "cell_type": "code",
   "execution_count": 21,
   "metadata": {},
   "outputs": [
    {
     "name": "stdout",
     "output_type": "stream",
     "text": [
      "1692.7025\n",
      "1040.5156\n",
      "784.7114\n",
      "667.4742\n",
      "501.5155\n",
      "338.17798\n",
      "243.80013\n",
      "208.55066\n",
      "199.40434\n",
      "184.32558\n",
      "160.3322\n",
      "140.01862\n",
      "125.872665\n",
      "115.77623\n",
      "108.40827\n",
      "102.11004\n",
      "95.745415\n",
      "89.46034\n",
      "83.88429\n",
      "79.37198\n",
      "75.90512\n",
      "73.23335\n",
      "71.072525\n",
      "69.287674\n",
      "67.49584\n"
     ]
    }
   ],
   "source": [
    "for i in range(25):\n",
    "    c,_=sess.run([cost,optimize],feed_dict={x:mnist.train.images,y:mnist.train.labels})\n",
    "    print(c)    # LESSER COST EACH TIME WE RUN IT"
   ]
  },
  {
   "cell_type": "markdown",
   "metadata": {},
   "source": [
    "# Q:    how does this optimizer know what variables to change ??\n",
    "## Sol:      by default all variables we create have a property trainable=True,\n",
    "   ##         so our optimiser finds all variables with trainable=True(defalult true) , AND FIND GRADIENT WRT TO ALL OF THEM !(all that variables should depend on cost also)\n",
    "   ##"
   ]
  },
  {
   "cell_type": "code",
   "execution_count": 22,
   "metadata": {},
   "outputs": [
    {
     "data": {
      "text/plain": [
       "[<tf.Variable 'Variable:0' shape=(784, 256) dtype=float32_ref>,\n",
       " <tf.Variable 'Variable_1:0' shape=(256, 256) dtype=float32_ref>,\n",
       " <tf.Variable 'Variable_2:0' shape=(256, 10) dtype=float32_ref>,\n",
       " <tf.Variable 'Variable_3:0' shape=(256,) dtype=float32_ref>,\n",
       " <tf.Variable 'Variable_4:0' shape=(256,) dtype=float32_ref>,\n",
       " <tf.Variable 'Variable_5:0' shape=(10,) dtype=float32_ref>]"
      ]
     },
     "execution_count": 22,
     "metadata": {},
     "output_type": "execute_result"
    }
   ],
   "source": [
    "tf.trainable_variables()"
   ]
  },
  {
   "cell_type": "code",
   "execution_count": 23,
   "metadata": {},
   "outputs": [],
   "source": [
    "predictions=tf.argmax(pred,1) # 1 is the axis we have to find max along each ROW\n",
    "# arg max find the index wherre maximun happens\n",
    "true_labels=tf.argmax(y,1)\n",
    "correct_predictions=tf.equal(predictions,true_labels)# . TAKES TESOR OBJECTS NOT ARRAYS \n",
    "predictions_eval,labels,correct_pred=sess.run([predictions,true_labels,correct_predictions],feed_dict={x:mnist.test.images,y:mnist.test.labels})\n"
   ]
  },
  {
   "cell_type": "code",
   "execution_count": 24,
   "metadata": {},
   "outputs": [
    {
     "data": {
      "text/plain": [
       "8546"
      ]
     },
     "execution_count": 24,
     "metadata": {},
     "output_type": "execute_result"
    }
   ],
   "source": [
    "correct_pred.sum()# out of 10,000-this is wid entirely random images"
   ]
  },
  {
   "cell_type": "markdown",
   "metadata": {},
   "source": [
    "# # .  Batch gradient Descent   Quick updates to weights with smaller batches "
   ]
  },
  {
   "cell_type": "code",
   "execution_count": 25,
   "metadata": {},
   "outputs": [
    {
     "name": "stdout",
     "output_type": "stream",
     "text": [
      "13857.49609157443\n",
      "4050.6920037624423\n",
      "2286.633392890817\n",
      "1563.4951497696889\n",
      "1236.3944485362565\n",
      "1117.0365695098294\n",
      "1044.3531660348863\n",
      "886.5900344739587\n",
      "861.0706519689703\n",
      "673.2890078932943\n",
      "639.5684163933498\n",
      "518.8369679651886\n",
      "478.5981503205443\n",
      "477.8576926258073\n",
      "377.27454022048516\n",
      "412.824699025162\n",
      "339.8830788304854\n",
      "255.39123320969912\n",
      "227.2581425698035\n",
      "296.19091669179505\n",
      "274.53088417631704\n",
      "187.1688380367971\n",
      "139.1691335565747\n",
      "146.21403339004996\n",
      "184.7215583707291\n"
     ]
    }
   ],
   "source": [
    "batch_size=100\n",
    "for i in range(25):# 25* 550 times                                         \n",
    "    num_batches=int(mnist.train.num_examples/batch_size)\n",
    "    total_cost=0\n",
    "    for j in range(num_batches):\n",
    "        batch_x,batch_y=mnist.train.next_batch(batch_size)\n",
    "        c,_=sess.run([cost,optimize],feed_dict={x:batch_x,y:batch_y})\n",
    "        total_cost=total_cost+c\n",
    "    print(total_cost)"
   ]
  },
  {
   "cell_type": "code",
   "execution_count": 26,
   "metadata": {},
   "outputs": [],
   "source": [
    "predictions=tf.argmax(pred,1) # 1 is the axis we have to find max along each ROW\n",
    "# arg max find the index wherre maximun happens\n",
    "true_labels=tf.argmax(y,1)\n",
    "correct_predictions=tf.equal(predictions,true_labels)# . TAKES TESOR OBJECTS NOT ARRAYS \n",
    "predictions_eval,labels,correct_pred=sess.run([predictions,true_labels,correct_predictions],feed_dict={x:mnist.test.images,y:mnist.test.labels})\n"
   ]
  },
  {
   "cell_type": "code",
   "execution_count": 27,
   "metadata": {},
   "outputs": [
    {
     "data": {
      "text/plain": [
       "9489"
      ]
     },
     "execution_count": 27,
     "metadata": {},
     "output_type": "execute_result"
    }
   ],
   "source": [
    "correct_pred.sum()# out of 10,000-this is wid entirely random images"
   ]
  },
  {
   "cell_type": "code",
   "execution_count": null,
   "metadata": {},
   "outputs": [],
   "source": []
  }
 ],
 "metadata": {
  "kernelspec": {
   "display_name": "Python 3",
   "language": "python",
   "name": "python3"
  },
  "language_info": {
   "codemirror_mode": {
    "name": "ipython",
    "version": 3
   },
   "file_extension": ".py",
   "mimetype": "text/x-python",
   "name": "python",
   "nbconvert_exporter": "python",
   "pygments_lexer": "ipython3",
   "version": "3.6.4"
  }
 },
 "nbformat": 4,
 "nbformat_minor": 2
}
