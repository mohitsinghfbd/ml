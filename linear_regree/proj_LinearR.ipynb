{
 "cells": [
  {
   "cell_type": "code",
   "execution_count": 29,
   "metadata": {},
   "outputs": [],
   "source": [
    "import pandas as pd\n",
    "import numpy as np\n",
    "data_train=np.genfromtxt('C:\\\\Users\\\\Mohit Singh\\\\Desktop\\\\ml\\\\linear_regree\\\\train_lr.csv',delimiter=',')\n",
    "data_test=np.genfromtxt('C:\\\\Users\\\\Mohit Singh\\\\Desktop\\\\ml\\\\linear_regree\\\\test_lr.csv',delimiter=',')\n",
    "x=data_train[:,0:10]\n",
    "y=data_train[:,10].reshape(-1,1)\n",
    "x1=data_test[:,0:10]"
   ]
  },
  {
   "cell_type": "code",
   "execution_count": 35,
   "metadata": {},
   "outputs": [],
   "source": [
    "from sklearn.linear_model import LinearRegression\n",
    "algo=LinearRegression()\n",
    "algo.fit(x,y)\n",
    "y1=algo.predict(x1)"
   ]
  },
  {
   "cell_type": "code",
   "execution_count": 37,
   "metadata": {},
   "outputs": [],
   "source": [
    "np.savetxt(\"out3.csv\",y1,fmt=\"%f\")"
   ]
  },
  {
   "cell_type": "code",
   "execution_count": null,
   "metadata": {},
   "outputs": [],
   "source": []
  }
 ],
 "metadata": {
  "kernelspec": {
   "display_name": "Python 3",
   "language": "python",
   "name": "python3"
  },
  "language_info": {
   "codemirror_mode": {
    "name": "ipython",
    "version": 3
   },
   "file_extension": ".py",
   "mimetype": "text/x-python",
   "name": "python",
   "nbconvert_exporter": "python",
   "pygments_lexer": "ipython3",
   "version": "3.6.4"
  }
 },
 "nbformat": 4,
 "nbformat_minor": 2
}
