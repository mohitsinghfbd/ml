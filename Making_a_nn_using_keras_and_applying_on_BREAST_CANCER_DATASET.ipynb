{
 "cells": [
  {
   "cell_type": "code",
   "execution_count": 1,
   "metadata": {},
   "outputs": [
    {
     "name": "stderr",
     "output_type": "stream",
     "text": [
      "Using TensorFlow backend.\n"
     ]
    }
   ],
   "source": [
    "from keras.models import Sequential\n",
    "from keras.layers import Dense"
   ]
  },
  {
   "cell_type": "code",
   "execution_count": 2,
   "metadata": {},
   "outputs": [],
   "source": [
    "# Creating a Model\n",
    "model = Sequential()"
   ]
  },
  {
   "cell_type": "code",
   "execution_count": 3,
   "metadata": {},
   "outputs": [],
   "source": [
    "layer1 = Dense(units=32, activation = 'relu', input_dim = 30)#essential for first layer to know dimn of weights\n",
    "# JUST FOR FIRST LAYER INPUT SHAPE, can pass use_bias as well, regularization\n",
    "model.add(layer1)\n",
    "model.add(Dense(units=16, activation = 'relu'))\n",
    "model.add(Dense(units=1, activation = 'sigmoid'))"
   ]
  },
  {
   "cell_type": "code",
   "execution_count": 4,
   "metadata": {},
   "outputs": [],
   "source": [
    "model.compile(optimizer='adam', loss='binary_crossentropy', metrics=['accuracy'])"
   ]
  },
  {
   "cell_type": "code",
   "execution_count": 5,
   "metadata": {},
   "outputs": [],
   "source": [
    "from sklearn import datasets\n",
    "cancer = datasets.load_breast_cancer()\n",
    "from sklearn.model_selection import train_test_split\n",
    "\n",
    "x_train, x_test, y_train, y_test = train_test_split(cancer.data, cancer.target, test_size = 0.2, random_state = 0)\n",
    "\n",
    "from sklearn.preprocessing import StandardScaler\n",
    "\n",
    "sc = StandardScaler()\n",
    "x_train = sc.fit_transform(x_train)\n",
    "x_test = sc.transform(x_test)"
   ]
  },
  {
   "cell_type": "code",
   "execution_count": 6,
   "metadata": {},
   "outputs": [
    {
     "name": "stdout",
     "output_type": "stream",
     "text": [
      "Train on 455 samples, validate on 114 samples\n",
      "Epoch 1/20\n",
      "455/455 [==============================] - 1s 3ms/step - loss: 0.5250 - acc: 0.8132 - val_loss: 0.4180 - val_acc: 0.8596\n",
      "Epoch 2/20\n",
      "455/455 [==============================] - 0s 65us/step - loss: 0.3870 - acc: 0.9121 - val_loss: 0.3171 - val_acc: 0.9035\n",
      "Epoch 3/20\n",
      "455/455 [==============================] - 0s 111us/step - loss: 0.2988 - acc: 0.9319 - val_loss: 0.2524 - val_acc: 0.9035\n",
      "Epoch 4/20\n",
      "455/455 [==============================] - 0s 99us/step - loss: 0.2382 - acc: 0.9363 - val_loss: 0.2104 - val_acc: 0.9211\n",
      "Epoch 5/20\n",
      "455/455 [==============================] - 0s 82us/step - loss: 0.1967 - acc: 0.9385 - val_loss: 0.1819 - val_acc: 0.9211\n",
      "Epoch 6/20\n",
      "455/455 [==============================] - 0s 85us/step - loss: 0.1671 - acc: 0.9429 - val_loss: 0.1622 - val_acc: 0.9298\n",
      "Epoch 7/20\n",
      "455/455 [==============================] - 0s 66us/step - loss: 0.1463 - acc: 0.9516 - val_loss: 0.1479 - val_acc: 0.9298\n",
      "Epoch 8/20\n",
      "455/455 [==============================] - 0s 69us/step - loss: 0.1311 - acc: 0.9582 - val_loss: 0.1366 - val_acc: 0.9298\n",
      "Epoch 9/20\n",
      "455/455 [==============================] - 0s 69us/step - loss: 0.1185 - acc: 0.9648 - val_loss: 0.1275 - val_acc: 0.9386\n",
      "Epoch 10/20\n",
      "455/455 [==============================] - 0s 76us/step - loss: 0.1083 - acc: 0.9670 - val_loss: 0.1199 - val_acc: 0.9386\n",
      "Epoch 11/20\n",
      "455/455 [==============================] - 0s 78us/step - loss: 0.1002 - acc: 0.9736 - val_loss: 0.1135 - val_acc: 0.9386\n",
      "Epoch 12/20\n",
      "455/455 [==============================] - 0s 67us/step - loss: 0.0932 - acc: 0.9736 - val_loss: 0.1078 - val_acc: 0.9474\n",
      "Epoch 13/20\n",
      "455/455 [==============================] - 0s 134us/step - loss: 0.0870 - acc: 0.9758 - val_loss: 0.1032 - val_acc: 0.9474\n",
      "Epoch 14/20\n",
      "455/455 [==============================] - 0s 71us/step - loss: 0.0817 - acc: 0.9758 - val_loss: 0.0982 - val_acc: 0.9474\n",
      "Epoch 15/20\n",
      "455/455 [==============================] - 0s 77us/step - loss: 0.0769 - acc: 0.9780 - val_loss: 0.0949 - val_acc: 0.9474\n",
      "Epoch 16/20\n",
      "455/455 [==============================] - 0s 71us/step - loss: 0.0734 - acc: 0.9802 - val_loss: 0.0914 - val_acc: 0.9561\n",
      "Epoch 17/20\n",
      "455/455 [==============================] - 0s 89us/step - loss: 0.0704 - acc: 0.9824 - val_loss: 0.0894 - val_acc: 0.9474\n",
      "Epoch 18/20\n",
      "455/455 [==============================] - 0s 78us/step - loss: 0.0677 - acc: 0.9846 - val_loss: 0.0882 - val_acc: 0.9474\n",
      "Epoch 19/20\n",
      "455/455 [==============================] - 0s 78us/step - loss: 0.0652 - acc: 0.9846 - val_loss: 0.0871 - val_acc: 0.9474\n",
      "Epoch 20/20\n",
      "455/455 [==============================] - 0s 65us/step - loss: 0.0632 - acc: 0.9846 - val_loss: 0.0861 - val_acc: 0.9474\n"
     ]
    },
    {
     "data": {
      "text/plain": [
       "<keras.callbacks.History at 0x111e6de80>"
      ]
     },
     "execution_count": 6,
     "metadata": {},
     "output_type": "execute_result"
    }
   ],
   "source": [
    "model.fit(x_train, y_train, epochs=20, batch_size = 50, validation_data=(x_test, y_test))# defult batch_size=32"
   ]
  },
  {
   "cell_type": "code",
   "execution_count": 7,
   "metadata": {},
   "outputs": [
    {
     "name": "stdout",
     "output_type": "stream",
     "text": [
      "114/114 [==============================] - 0s 60us/step\n"
     ]
    },
    {
     "data": {
      "text/plain": [
       "[0.08614214967217362, 0.9473684220983271]"
      ]
     },
     "execution_count": 7,
     "metadata": {},
     "output_type": "execute_result"
    }
   ],
   "source": [
    "predictions = model.predict(x_test)\n",
    "score = model.evaluate(x_test, y_test)# REMEMBER BREAST CANCER IS BINARY CLASSIFICATION\n",
    "score # PROVIDES US WHAT WE ASKED FOR IN metrics\n",
    "# [0.10046369673912986, 0.9473684220983271] THE FIRST IS THE LOSS FXN ,SECOND IS ACCURACY"
   ]
  },
  {
   "cell_type": "code",
   "execution_count": null,
   "metadata": {},
   "outputs": [],
   "source": []
  },
  {
   "cell_type": "code",
   "execution_count": null,
   "metadata": {},
   "outputs": [],
   "source": []
  },
  {
   "cell_type": "code",
   "execution_count": null,
   "metadata": {},
   "outputs": [],
   "source": []
  },
  {
   "cell_type": "code",
   "execution_count": null,
   "metadata": {},
   "outputs": [],
   "source": []
  },
  {
   "cell_type": "code",
   "execution_count": null,
   "metadata": {},
   "outputs": [],
   "source": []
  }
 ],
 "metadata": {
  "kernelspec": {
   "display_name": "Python 3",
   "language": "python",
   "name": "python3"
  },
  "language_info": {
   "codemirror_mode": {
    "name": "ipython",
    "version": 3
   },
   "file_extension": ".py",
   "mimetype": "text/x-python",
   "name": "python",
   "nbconvert_exporter": "python",
   "pygments_lexer": "ipython3",
   "version": "3.6.4"
  }
 },
 "nbformat": 4,
 "nbformat_minor": 2
}
